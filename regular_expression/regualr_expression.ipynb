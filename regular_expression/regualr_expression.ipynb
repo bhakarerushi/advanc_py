{
 "cells": [
  {
   "cell_type": "markdown",
   "metadata": {},
   "source": [
    "Regular Expression.\n",
    "\n",
    "\n",
    "String started with 'r' format considered as raw string in python which does not support any escape characters."
   ]
  },
  {
   "cell_type": "code",
   "execution_count": 1,
   "metadata": {},
   "outputs": [
    {
     "name": "stdout",
     "output_type": "stream",
     "text": [
      "\tThis is normal string\n",
      "\\tThis is raw string\n"
     ]
    }
   ],
   "source": [
    "print(\"\\tThis is normal string\")\n",
    "\n",
    "print(r\"\\tThis is raw string\")"
   ]
  },
  {
   "cell_type": "code",
   "execution_count": 1,
   "metadata": {},
   "outputs": [
    {
     "name": "stdout",
     "output_type": "stream",
     "text": [
      "<re.Match object; span=(39, 40), match='M'>\n",
      "<re.Match object; span=(75, 76), match='M'>\n",
      "<re.Match object; span=(166, 168), match='Mr'>\n",
      "<re.Match object; span=(178, 180), match='Mr'>\n",
      "<re.Match object; span=(187, 188), match='M'>\n",
      "<re.Match object; span=(196, 198), match='Mr'>\n",
      "<re.Match object; span=(210, 212), match='Mr'>\n"
     ]
    }
   ],
   "source": [
    "import re\n",
    "\n",
    "text_to_search = \"\"\"abcdefghijklmnopqurtuvwxyz\n",
    "ABCDEFGHIJKLMNOPQRSTUVWXYZ\n",
    "1234567890\n",
    "\n",
    "Ha HaHa\n",
    "\n",
    "MetaCharacters (Need to be escaped):\n",
    ".[{()\\^$|?*+\n",
    "\n",
    "coreyms.com\n",
    "\n",
    "321-555-4321\n",
    "123.555.1234\n",
    "\n",
    "Mr. Schafer\n",
    "Mr Smith\n",
    "Ms Davis\n",
    "Mrs. Robinson\n",
    "Mr. T \"\"\"\n",
    "\n",
    "# pattern = re.compile(r'S^') \n",
    "\n",
    "\n",
    "# pattern = re.compile(r'^a')   # ^ look for pattern at the start of string when not inside the bracket.\n",
    "\n",
    "# pattern = re.compile(r'Tsht$')  # $ look for pattern at the exact end of string.\n",
    "\n",
    "# pattern = re.compile(r'M\\w\\.')    # \\w repreent single alphanumewric char.\n",
    "\n",
    "# pattern = re.compile(r'\\w+\\.com')  # finding pattern with .com.\n",
    "\n",
    "# pattern = re.compile(r'M(r|s|rs)')  # searching for optional pattern \n",
    "\n",
    "# pattern = re.compile(r'\\d+\\.\\d+\\.\\d*')  # searching for mobile number with dot(.) as a seperator.\n",
    "\n",
    "# pattern = re.compile(r'\\d+.\\d+.\\d+')  \n",
    "\n",
    "# pattern = re.compile(r'\\w+[rcs]')  # any word containing rcs as a char.\n",
    "\n",
    "# pattern = re.compile(r'\\w{3}')   # search for 3 alphabetic characters.\n",
    "\n",
    "# pattern = re.compile(r'\\w{3,5}')  # aearch for range of characters.\n",
    "\n",
    "# pattern = re.compile(r'\\bHa')  # space before the pattern.\n",
    "\n",
    "# pattern = re.compile(r'\\BHa')  # No space before teh character.\n",
    "\n",
    "pattern = re.compile(r'Mr?')  # ? represent 0 or 1 char .\n",
    "\n",
    "matches = pattern.finditer(text_to_search)\n",
    "\n",
    "# finditer method return ietertor object whcih can loop over.\n",
    "\n",
    "for match in matches:\n",
    "    print(match)"
   ]
  }
 ],
 "metadata": {
  "interpreter": {
   "hash": "916dbcbb3f70747c44a77c7bcd40155683ae19c65e1c03b4aa3499c5328201f1"
  },
  "kernelspec": {
   "display_name": "Python 3.8.10 64-bit",
   "language": "python",
   "name": "python3"
  },
  "language_info": {
   "codemirror_mode": {
    "name": "ipython",
    "version": 3
   },
   "file_extension": ".py",
   "mimetype": "text/x-python",
   "name": "python",
   "nbconvert_exporter": "python",
   "pygments_lexer": "ipython3",
   "version": "3.8.10"
  },
  "orig_nbformat": 4
 },
 "nbformat": 4,
 "nbformat_minor": 2
}
